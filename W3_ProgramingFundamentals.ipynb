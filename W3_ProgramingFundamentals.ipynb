{
 "cells": [
  {
   "cell_type": "markdown",
   "metadata": {},
   "source": [
    "# Python for Data Science and AI, Week 3"
   ]
  },
  {
   "cell_type": "markdown",
   "metadata": {},
   "source": [
    "## 1- CONDITIONS AND BRANCHING"
   ]
  },
  {
   "cell_type": "markdown",
   "metadata": {},
   "source": [
    "Comparison Operators\n",
    "\n",
    "Comparison operations compare some value or operand and, based on a condition, they produce a Boolean. When comparing two values you can use these operators:\n",
    "​\n",
    "<ul>\n",
    "    <li>equal: <b>==</b></li>\n",
    "    <li>not equal: <b>!=</b></li>\n",
    "    <li>greater than: <b>></b></li>\n",
    "    <li>less than: <b>&lt;</b></li>\n",
    "    <li>greater than or equal to: <b>>=</b></li>\n",
    "    <li>less than or equal to: <b>&lt;=</b></li>\n",
    "</ul>"
   ]
  },
  {
   "cell_type": "code",
   "execution_count": 1,
   "metadata": {},
   "outputs": [
    {
     "name": "stdout",
     "output_type": "stream",
     "text": [
      "False\n",
      "True\n"
     ]
    }
   ],
   "source": [
    "# Comparison operations\n",
    "a=10\n",
    "print(a==3)\n",
    "print(a!=4)"
   ]
  },
  {
   "cell_type": "code",
   "execution_count": 2,
   "metadata": {},
   "outputs": [
    {
     "name": "stdout",
     "output_type": "stream",
     "text": [
      "Iligal\n"
     ]
    }
   ],
   "source": [
    "# If statement\n",
    "age=15\n",
    "if (age>18):\n",
    "    print('Legal')\n",
    "print('Iligal')"
   ]
  },
  {
   "cell_type": "code",
   "execution_count": 3,
   "metadata": {},
   "outputs": [
    {
     "name": "stdout",
     "output_type": "stream",
     "text": [
      "Go left\n"
     ]
    }
   ],
   "source": [
    "# if else statement\n",
    "age=17\n",
    "if(age>18):\n",
    "    print('Go right')\n",
    "else:\n",
    "    print('Go left')\n"
   ]
  },
  {
   "cell_type": "code",
   "execution_count": 4,
   "metadata": {},
   "outputs": [
    {
     "name": "stdout",
     "output_type": "stream",
     "text": [
      "Go left\n"
     ]
    }
   ],
   "source": [
    "# elif statement\n",
    "age=18\n",
    "if (age>18):\n",
    "    print('Go right')\n",
    "elif (age==18):\n",
    "    print('Go left')\n",
    "else: \n",
    "    print('Go straight')"
   ]
  },
  {
   "cell_type": "code",
   "execution_count": 5,
   "metadata": {},
   "outputs": [
    {
     "name": "stdout",
     "output_type": "stream",
     "text": [
      "You are born in 80's\n"
     ]
    }
   ],
   "source": [
    "# logic operations\n",
    "BD=1982\n",
    "if (BD>=1980) & (BD<1990):\n",
    "    print('You are born in 80\\'s')\n",
    "else:\n",
    "    print('You are not born in 80\\'s')"
   ]
  },
  {
   "cell_type": "markdown",
   "metadata": {},
   "source": [
    "## 2- LOOPS"
   ]
  },
  {
   "cell_type": "code",
   "execution_count": 6,
   "metadata": {},
   "outputs": [
    {
     "name": "stdout",
     "output_type": "stream",
     "text": [
      "5\n",
      "18\n"
     ]
    }
   ],
   "source": [
    "# range function\n",
    "Rng=range(10,20,2)\n",
    "print(len(Rng))\n",
    "print(Rng[-1])"
   ]
  },
  {
   "cell_type": "code",
   "execution_count": 7,
   "metadata": {},
   "outputs": [
    {
     "name": "stdout",
     "output_type": "stream",
     "text": [
      "red\n",
      "yellow\n",
      "green\n",
      "blue\n",
      "orange\n"
     ]
    }
   ],
   "source": [
    "# for loop example\n",
    "Squares=['red','yellow','green','blue','orange']\n",
    "for i in range(0,len(Squares)):\n",
    "    print(Squares[i])"
   ]
  },
  {
   "cell_type": "code",
   "execution_count": 8,
   "metadata": {},
   "outputs": [
    {
     "name": "stdout",
     "output_type": "stream",
     "text": [
      "A1\n",
      "A2\n",
      "A3\n",
      "A4\n"
     ]
    }
   ],
   "source": [
    "for x in ['1','2','3','4']:\n",
    "    print('A'+x)"
   ]
  },
  {
   "cell_type": "code",
   "execution_count": 9,
   "metadata": {},
   "outputs": [
    {
     "name": "stdout",
     "output_type": "stream",
     "text": [
      "0 A\n",
      "1 B\n",
      "2 C\n"
     ]
    }
   ],
   "source": [
    "for i,x in enumerate(['A','B','C']):\n",
    "    print(i,x)"
   ]
  },
  {
   "cell_type": "code",
   "execution_count": 10,
   "metadata": {},
   "outputs": [
    {
     "name": "stdout",
     "output_type": "stream",
     "text": [
      "[(1, 'A'), (2, 'B'), (3, 'C'), (4, 'D')]\n"
     ]
    }
   ],
   "source": [
    "# enumerate function\n",
    "Array=['A','B','C','D']\n",
    "# use enumerate to create a list of tuples\n",
    "List=list(enumerate(Array,1))\n",
    "print(List)"
   ]
  },
  {
   "cell_type": "code",
   "execution_count": 11,
   "metadata": {},
   "outputs": [
    {
     "name": "stdout",
     "output_type": "stream",
     "text": [
      "['Orange', 'Orange', 'Orange']\n"
     ]
    }
   ],
   "source": [
    "Sq=['Orange','Orange','Orange','Red','Orange']\n",
    "NSq=[]\n",
    "i=0\n",
    "while (Sq[i]=='Orange'):\n",
    "    NSq.append(Sq[i])\n",
    "    i=i+1\n",
    "print(NSq)"
   ]
  },
  {
   "cell_type": "markdown",
   "metadata": {},
   "source": [
    "## 3- FUNCTIONS"
   ]
  },
  {
   "cell_type": "code",
   "execution_count": 12,
   "metadata": {},
   "outputs": [
    {
     "name": "stdout",
     "output_type": "stream",
     "text": [
      "[1, 2, 2, 3, 4, 5, 6]\n",
      "[3, 1, 2, 5, 4, 2, 6]\n",
      "[1, 2, 2, 3, 4, 5, 6]\n",
      "--------------\n",
      "[3, 1, 2, 5, 4, 2, 6]\n",
      "[1, 2, 2, 3, 4, 5, 6]\n"
     ]
    }
   ],
   "source": [
    "# sorted vs sort\n",
    "# sorted is a function that when applied to a list, will not change the original list (L) but the result\n",
    "# could be assigned to a new variable (NL)\n",
    "L=[3,1,2,5,4,2,6]\n",
    "print(sorted(L))\n",
    "print(L) # Note that this original list is not changed\n",
    "NL=sorted(L)\n",
    "print(NL)\n",
    "print('--------------')\n",
    "print(L)\n",
    "L.sort() # Apply sort method to the list (L)\n",
    "print(L) # Note that the original list is sorted "
   ]
  },
  {
   "cell_type": "code",
   "execution_count": 13,
   "metadata": {},
   "outputs": [
    {
     "data": {
      "text/plain": [
       "5"
      ]
     },
     "execution_count": 13,
     "metadata": {},
     "output_type": "execute_result"
    }
   ],
   "source": [
    "# Define functions\n",
    "def Add1(a): \n",
    "    \"\"\"\n",
    "    Add 1 to a\n",
    "    \"\"\"\n",
    "    b=a+1\n",
    "    return b\n",
    "Add1(4)"
   ]
  },
  {
   "cell_type": "code",
   "execution_count": 14,
   "metadata": {},
   "outputs": [
    {
     "name": "stdout",
     "output_type": "stream",
     "text": [
      "Help on function Add1 in module __main__:\n",
      "\n",
      "Add1(a)\n",
      "    Add 1 to a\n",
      "\n"
     ]
    }
   ],
   "source": [
    "help(Add1)"
   ]
  },
  {
   "cell_type": "code",
   "execution_count": 15,
   "metadata": {},
   "outputs": [
    {
     "name": "stdout",
     "output_type": "stream",
     "text": [
      "9.42\n"
     ]
    }
   ],
   "source": [
    "# function with more than one input\n",
    "def Mult(a,b):\n",
    "    \"\"\"\n",
    "    Multiply: a*b\n",
    "    \"\"\"\n",
    "    c=a*b\n",
    "    return c\n",
    "print(3*3.14)  "
   ]
  },
  {
   "cell_type": "code",
   "execution_count": 16,
   "metadata": {},
   "outputs": [
    {
     "data": {
      "text/plain": [
       "10"
      ]
     },
     "execution_count": 16,
     "metadata": {},
     "output_type": "execute_result"
    }
   ],
   "source": [
    "# Define globar variables within the function\n",
    "def GlobFun(input):\n",
    "    global GlobVar # define GlobVar as a global variable\n",
    "    GlobVar=input\n",
    "    return None\n",
    "GlobFun(10)\n",
    "GlobVar"
   ]
  },
  {
   "cell_type": "code",
   "execution_count": 3,
   "metadata": {},
   "outputs": [
    {
     "name": "stdout",
     "output_type": "stream",
     "text": [
      "1 2\n",
      "3 -1\n"
     ]
    }
   ],
   "source": [
    "# Define function that returns multiple outputs\n",
    "in1=1\n",
    "in2=2\n",
    "def MultRet(in1,in2):\n",
    "    out1=in1+in2\n",
    "    out2=in1-in2\n",
    "    return out1,out2\n",
    "out1,out2=MultRet(in1,in2)\n",
    "print(in1,in2)\n",
    "print(out1,out2)"
   ]
  },
  {
   "cell_type": "markdown",
   "metadata": {},
   "source": [
    "## 4- OBJECTS AND CLASSES"
   ]
  },
  {
   "cell_type": "code",
   "execution_count": 23,
   "metadata": {},
   "outputs": [
    {
     "name": "stdout",
     "output_type": "stream",
     "text": [
      "Red\n",
      "10\n"
     ]
    }
   ],
   "source": [
    "# Define a class or circle with attributes (radius and color)\n",
    "class Circle(object):\n",
    "    # constructor\n",
    "    def __init__(self,radius=3,color='Blue'):\n",
    "        self.radius=radius\n",
    "        self.color=color\n",
    "        \n",
    "# Create a new object where the color is Red and radius is 10 cm\n",
    "NC=Circle(10,'Red')\n",
    "print(NC.color)\n",
    "print(NC.radius)"
   ]
  },
  {
   "cell_type": "code",
   "execution_count": 18,
   "metadata": {},
   "outputs": [
    {
     "name": "stdout",
     "output_type": "stream",
     "text": [
      "Blue\n",
      "12\n"
     ]
    }
   ],
   "source": [
    "# assign values to attributes of an object, using attribute names\n",
    "BC=Circle(color='Blue',radius=12)\n",
    "print(BC.color)\n",
    "print(BC.radius)"
   ]
  },
  {
   "cell_type": "code",
   "execution_count": 31,
   "metadata": {},
   "outputs": [
    {
     "name": "stdout",
     "output_type": "stream",
     "text": [
      "10\n",
      "14\n",
      "Green\n",
      "Orange\n"
     ]
    }
   ],
   "source": [
    "# add add_radius and change_color methods to a the class object Circle\n",
    "class Circle(object):\n",
    "    \n",
    "    # constructor\n",
    "    def __init__(self,radius=3,color='Blue'):\n",
    "        self.radius=radius\n",
    "        self.color=color\n",
    "    # method\n",
    "    def add_radius(self,r):\n",
    "        self.radius=self.radius+r\n",
    "        return(self.radius)\n",
    "    # method\n",
    "    def change_color(self,x):\n",
    "        self.color=x\n",
    "        return(self.color)\n",
    "    # Method\n",
    "    def drawCircle(self):\n",
    "        plt.gca().add_patch(plt.Circle((0, 0), radius=self.radius, fc=self.color))\n",
    "        plt.axis('scaled')\n",
    "        plt.show()  \n",
    "    \n",
    "# Create a new object and add 4 to the radius\n",
    "C=Circle(radius=10,color='Green')\n",
    "print(C.radius)\n",
    "C.add_radius(4)\n",
    "print(C.radius)\n",
    "# change color of circle\n",
    "print(C.color)\n",
    "C.change_color('Orange')\n",
    "print(C.color)"
   ]
  },
  {
   "cell_type": "code",
   "execution_count": 20,
   "metadata": {},
   "outputs": [
    {
     "name": "stdout",
     "output_type": "stream",
     "text": [
      "['__class__', '__delattr__', '__dict__', '__dir__', '__doc__', '__eq__', '__format__', '__ge__', '__getattribute__', '__gt__', '__hash__', '__init__', '__init_subclass__', '__le__', '__lt__', '__module__', '__ne__', '__new__', '__reduce__', '__reduce_ex__', '__repr__', '__setattr__', '__sizeof__', '__str__', '__subclasshook__', '__weakref__', 'add_radius', 'change_color', 'color', 'radius']\n"
     ]
    }
   ],
   "source": [
    "# we can use dir() function to obtain attributes of a class\n",
    "print(dir(C))"
   ]
  },
  {
   "cell_type": "code",
   "execution_count": 21,
   "metadata": {},
   "outputs": [
    {
     "name": "stdout",
     "output_type": "stream",
     "text": [
      "Help on built-in function dir in module builtins:\n",
      "\n",
      "dir(...)\n",
      "    dir([object]) -> list of strings\n",
      "    \n",
      "    If called without an argument, return the names in the current scope.\n",
      "    Else, return an alphabetized list of names comprising (some of) the attributes\n",
      "    of the given object, and of attributes reachable from it.\n",
      "    If the object supplies a method named __dir__, it will be used; otherwise\n",
      "    the default dir() logic is used and returns:\n",
      "      for a module object: the module's attributes.\n",
      "      for a class object:  its attributes, and recursively the attributes\n",
      "        of its bases.\n",
      "      for any other object: its attributes, its class's attributes, and\n",
      "        recursively the attributes of its class's base classes.\n",
      "\n"
     ]
    }
   ],
   "source": [
    "help('dir')"
   ]
  },
  {
   "cell_type": "code",
   "execution_count": 28,
   "metadata": {},
   "outputs": [],
   "source": [
    "# plot a circle object by its attributes\n",
    "# Import the library\n",
    "\n",
    "import matplotlib.pyplot as plt\n",
    "%matplotlib inline  "
   ]
  },
  {
   "cell_type": "code",
   "execution_count": 32,
   "metadata": {},
   "outputs": [
    {
     "name": "stdout",
     "output_type": "stream",
     "text": [
      "Blue\n",
      "3\n"
     ]
    },
    {
     "data": {
      "image/png": "[encoded data removed]",
      "text/plain": [
       "<Figure size 432x288 with 1 Axes>"
      ]
     },
     "metadata": {
      "needs_background": "light"
     },
     "output_type": "display_data"
    }
   ],
   "source": [
    "# generate a circle object with initial attributes and draw it\n",
    "A=Circle()\n",
    "print(A.color)# initial color attribute\n",
    "print(A.radius)\n",
    "A.drawCircle()"
   ]
  },
  {
   "cell_type": "code",
   "execution_count": 34,
   "metadata": {},
   "outputs": [
    {
     "data": {
      "image/png": "[encoded data removed]",
      "text/plain": [
       "<Figure size 432x288 with 1 Axes>"
      ]
     },
     "metadata": {
      "needs_background": "light"
     },
     "output_type": "display_data"
    }
   ],
   "source": [
    "OrangeCircle=Circle(color='Orange',radius=4)\n",
    "OrangeCircle.drawCircle()"
   ]
  },
  {
   "cell_type": "code",
   "execution_count": null,
   "metadata": {},
   "outputs": [],
   "source": []
  }
 ],
 "metadata": {
  "kernelspec": {
   "display_name": "Python 3",
   "language": "python",
   "name": "python3"
  },
  "language_info": {
   "codemirror_mode": {
    "name": "ipython",
    "version": 3
   },
   "file_extension": ".py",
   "mimetype": "text/x-python",
   "name": "python",
   "nbconvert_exporter": "python",
   "pygments_lexer": "ipython3",
   "version": "3.7.3"
  }
 },
 "nbformat": 4,
 "nbformat_minor": 4
}
