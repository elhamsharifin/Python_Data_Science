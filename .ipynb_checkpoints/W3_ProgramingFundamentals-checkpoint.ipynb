{
 "cells": [
  {
   "cell_type": "markdown",
   "metadata": {},
   "source": [
    "# Python for Data Science and AI, Week 3"
   ]
  },
  {
   "cell_type": "markdown",
   "metadata": {},
   "source": [
    "## 1- CONDITIONS AND BRANCHING"
   ]
  },
  {
   "cell_type": "markdown",
   "metadata": {},
   "source": [
    "Comparison Operators\n",
    "\n",
    "Comparison operations compare some value or operand and, based on a condition, they produce a Boolean. When comparing two values you can use these operators:\n",
    "​\n",
    "<ul>\n",
    "    <li>equal: <b>==</b></li>\n",
    "    <li>not equal: <b>!=</b></li>\n",
    "    <li>greater than: <b>></b></li>\n",
    "    <li>less than: <b>&lt;</b></li>\n",
    "    <li>greater than or equal to: <b>>=</b></li>\n",
    "    <li>less than or equal to: <b>&lt;=</b></li>\n",
    "</ul>"
   ]
  },
  {
   "cell_type": "code",
   "execution_count": 3,
   "metadata": {},
   "outputs": [
    {
     "name": "stdout",
     "output_type": "stream",
     "text": [
      "False\n",
      "True\n"
     ]
    }
   ],
   "source": [
    "# Comparison operations\n",
    "a=10\n",
    "print(a==3)\n",
    "print(a!=4)"
   ]
  },
  {
   "cell_type": "code",
   "execution_count": 4,
   "metadata": {},
   "outputs": [
    {
     "name": "stdout",
     "output_type": "stream",
     "text": [
      "Illigal\n"
     ]
    }
   ],
   "source": [
    "# If statement\n",
    "age=15\n",
    "if (age>18):\n",
    "    print('Legal')\n",
    "print('Iligal')"
   ]
  },
  {
   "cell_type": "code",
   "execution_count": 6,
   "metadata": {},
   "outputs": [
    {
     "name": "stdout",
     "output_type": "stream",
     "text": [
      "Go left\n"
     ]
    }
   ],
   "source": [
    "# if else statement\n",
    "age=17\n",
    "if(age>18):\n",
    "    print('Go right')\n",
    "else:\n",
    "    print('Go left')\n"
   ]
  },
  {
   "cell_type": "code",
   "execution_count": 10,
   "metadata": {},
   "outputs": [
    {
     "name": "stdout",
     "output_type": "stream",
     "text": [
      "Go left\n"
     ]
    }
   ],
   "source": [
    "# elif statement\n",
    "age=18\n",
    "if (age>18):\n",
    "    print('Go right')\n",
    "elif (age==18):\n",
    "    print('Go left')\n",
    "else: \n",
    "    print('Go straight')"
   ]
  },
  {
   "cell_type": "code",
   "execution_count": 12,
   "metadata": {},
   "outputs": [
    {
     "name": "stdout",
     "output_type": "stream",
     "text": [
      "You are born in 80's\n"
     ]
    }
   ],
   "source": [
    "# logic operations\n",
    "BD=1982\n",
    "if (BD>=1980) & (BD<1990):\n",
    "    print('You are born in 80\\'s')\n",
    "else:\n",
    "    print('You are not born in 80\\'s')"
   ]
  },
  {
   "cell_type": "markdown",
   "metadata": {},
   "source": [
    "## 2- LOOPS"
   ]
  },
  {
   "cell_type": "code",
   "execution_count": 39,
   "metadata": {},
   "outputs": [
    {
     "name": "stdout",
     "output_type": "stream",
     "text": [
      "5\n",
      "18\n"
     ]
    }
   ],
   "source": [
    "# range function\n",
    "Rng=range(10,20,2)\n",
    "print(len(Rng))\n",
    "print(Rng[-1])"
   ]
  },
  {
   "cell_type": "code",
   "execution_count": 42,
   "metadata": {},
   "outputs": [
    {
     "name": "stdout",
     "output_type": "stream",
     "text": [
      "red\n",
      "yellow\n",
      "green\n",
      "blue\n",
      "orange\n"
     ]
    }
   ],
   "source": [
    "# for loop example\n",
    "Squares=['red','yellow','green','blue','orange']\n",
    "for i in range(0,len(Squares)):\n",
    "    print(Squares[i])"
   ]
  },
  {
   "cell_type": "code",
   "execution_count": 43,
   "metadata": {},
   "outputs": [
    {
     "name": "stdout",
     "output_type": "stream",
     "text": [
      "A1\n",
      "A2\n",
      "A3\n",
      "A4\n"
     ]
    }
   ],
   "source": [
    "for x in ['1','2','3','4']:\n",
    "    print('A'+x)"
   ]
  },
  {
   "cell_type": "code",
   "execution_count": 44,
   "metadata": {},
   "outputs": [
    {
     "name": "stdout",
     "output_type": "stream",
     "text": [
      "0 A\n",
      "1 B\n",
      "2 C\n"
     ]
    }
   ],
   "source": [
    "for i,x in enumerate(['A','B','C']):\n",
    "    print(i,x)"
   ]
  },
  {
   "cell_type": "code",
   "execution_count": 48,
   "metadata": {},
   "outputs": [
    {
     "name": "stdout",
     "output_type": "stream",
     "text": [
      "[(1, 'A'), (2, 'B'), (3, 'C'), (4, 'D')]\n"
     ]
    }
   ],
   "source": [
    "# enumerate function\n",
    "Array=['A','B','C','D']\n",
    "# use enumerate to create a list of tuples\n",
    "List=list(enumerate(Array,1))\n",
    "print(List)"
   ]
  },
  {
   "cell_type": "code",
   "execution_count": 58,
   "metadata": {},
   "outputs": [
    {
     "name": "stdout",
     "output_type": "stream",
     "text": [
      "['Orange', 'Orange', 'Orange']\n"
     ]
    }
   ],
   "source": [
    "Sq=['Orange','Orange','Orange','Red','Orange']\n",
    "NSq=[]\n",
    "i=0\n",
    "while (Sq[i]=='Orange'):\n",
    "    NSq.append(Sq[i])\n",
    "    i=i+1\n",
    "print(NSq)"
   ]
  },
  {
   "cell_type": "markdown",
   "metadata": {},
   "source": [
    "## 3- FUNCTIONS"
   ]
  },
  {
   "cell_type": "code",
   "execution_count": 63,
   "metadata": {},
   "outputs": [
    {
     "name": "stdout",
     "output_type": "stream",
     "text": [
      "[1, 2, 2, 3, 4, 5, 6]\n",
      "[3, 1, 2, 5, 4, 2, 6]\n",
      "[1, 2, 2, 3, 4, 5, 6]\n",
      "--------------\n",
      "[3, 1, 2, 5, 4, 2, 6]\n",
      "[1, 2, 2, 3, 4, 5, 6]\n"
     ]
    }
   ],
   "source": [
    "# sorted vs sort\n",
    "# sorted is a function that when applied to a list, will not change the original list (L) but the result\n",
    "# could be assigned to a new variable (NL)\n",
    "L=[3,1,2,5,4,2,6]\n",
    "print(sorted(L))\n",
    "print(L) # Note that this original list is not changed\n",
    "NL=sorted(L)\n",
    "print(NL)\n",
    "print('--------------')\n",
    "print(L)\n",
    "L.sort() # Apply sort method to the list (L)\n",
    "print(L) # Note that the original list is sorted "
   ]
  },
  {
   "cell_type": "code",
   "execution_count": 74,
   "metadata": {},
   "outputs": [
    {
     "data": {
      "text/plain": [
       "5"
      ]
     },
     "execution_count": 74,
     "metadata": {},
     "output_type": "execute_result"
    }
   ],
   "source": [
    "# Define functions\n",
    "def Add1(a): \n",
    "    \"\"\"\n",
    "    Add 1 to a\n",
    "    \"\"\"\n",
    "    b=a+1\n",
    "    return b\n",
    "Add1(4)"
   ]
  },
  {
   "cell_type": "code",
   "execution_count": 76,
   "metadata": {},
   "outputs": [
    {
     "name": "stdout",
     "output_type": "stream",
     "text": [
      "Help on function Add1 in module __main__:\n",
      "\n",
      "Add1(a)\n",
      "    Add 1 to a\n",
      "\n"
     ]
    }
   ],
   "source": [
    "help(Add1)"
   ]
  },
  {
   "cell_type": "code",
   "execution_count": 77,
   "metadata": {},
   "outputs": [
    {
     "name": "stdout",
     "output_type": "stream",
     "text": [
      "9.42\n"
     ]
    }
   ],
   "source": [
    "# function with more than one input\n",
    "def Mult(a,b):\n",
    "    \"\"\"\n",
    "    Multiply: a*b\n",
    "    \"\"\"\n",
    "    c=a*b\n",
    "    return c\n",
    "print(3*3.14)  "
   ]
  },
  {
   "cell_type": "code",
   "execution_count": 83,
   "metadata": {},
   "outputs": [
    {
     "data": {
      "text/plain": [
       "10"
      ]
     },
     "execution_count": 83,
     "metadata": {},
     "output_type": "execute_result"
    }
   ],
   "source": [
    "# Define globar variables within the function\n",
    "def GlobFun(input):\n",
    "    global GlobVar # define GlobVar as a global variable\n",
    "    GlobVar=input\n",
    "    return None\n",
    "GlobFun(10)\n",
    "GlobVar"
   ]
  },
  {
   "cell_type": "code",
   "execution_count": null,
   "metadata": {},
   "outputs": [],
   "source": []
  }
 ],
 "metadata": {
  "kernelspec": {
   "display_name": "Python 3",
   "language": "python",
   "name": "python3"
  },
  "language_info": {
   "codemirror_mode": {
    "name": "ipython",
    "version": 3
   },
   "file_extension": ".py",
   "mimetype": "text/x-python",
   "name": "python",
   "nbconvert_exporter": "python",
   "pygments_lexer": "ipython3",
   "version": "3.7.3"
  }
 },
 "nbformat": 4,
 "nbformat_minor": 4
}
