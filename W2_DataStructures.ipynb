{
 "cells": [
  {
   "cell_type": "markdown",
   "metadata": {},
   "source": [
    "# Python for Data Science and AI, Week 2"
   ]
  },
  {
   "cell_type": "markdown",
   "metadata": {},
   "source": [
    "## 1- TUPLES AND LISTS"
   ]
  },
  {
   "cell_type": "code",
   "execution_count": 16,
   "metadata": {},
   "outputs": [
    {
     "name": "stdout",
     "output_type": "stream",
     "text": [
      "<class 'tuple'>\n",
      "Mohammad\n"
     ]
    }
   ],
   "source": [
    "# Tuples are in paranthesis\n",
    "a=(1,4,5,17,'Mohammad')\n",
    "print(type(a))\n",
    "print(a[4])\n"
   ]
  },
  {
   "cell_type": "code",
   "execution_count": 17,
   "metadata": {
    "collapsed": true,
    "jupyter": {
     "outputs_hidden": true
    }
   },
   "outputs": [
    {
     "ename": "TypeError",
     "evalue": "'tuple' object does not support item assignment",
     "output_type": "error",
     "traceback": [
      "\u001b[0;31m---------------------------------------------------------------------------\u001b[0m",
      "\u001b[0;31mTypeError\u001b[0m                                 Traceback (most recent call last)",
      "\u001b[0;32m<ipython-input-17-354d43f3ca0e>\u001b[0m in \u001b[0;36m<module>\u001b[0;34m\u001b[0m\n\u001b[1;32m      1\u001b[0m \u001b[0;31m# Tuples are immutable, meaning that we can not change them\u001b[0m\u001b[0;34m\u001b[0m\u001b[0;34m\u001b[0m\u001b[0;34m\u001b[0m\u001b[0m\n\u001b[0;32m----> 2\u001b[0;31m \u001b[0ma\u001b[0m\u001b[0;34m[\u001b[0m\u001b[0;36m1\u001b[0m\u001b[0;34m]\u001b[0m\u001b[0;34m=\u001b[0m\u001b[0;36m3\u001b[0m\u001b[0;34m\u001b[0m\u001b[0;34m\u001b[0m\u001b[0m\n\u001b[0m",
      "\u001b[0;31mTypeError\u001b[0m: 'tuple' object does not support item assignment"
     ]
    }
   ],
   "source": [
    "# Tuples are immutable, meaning that we can not change them\n",
    "a[1]=3"
   ]
  },
  {
   "cell_type": "code",
   "execution_count": 55,
   "metadata": {},
   "outputs": [
    {
     "name": "stdout",
     "output_type": "stream",
     "text": [
      "('Ali', 'Mohammad')\n",
      "Ali\n"
     ]
    }
   ],
   "source": [
    "# Tuples nesting\n",
    "b=(1,(2,3),('Ali','Mohammad'))\n",
    "print(b[2])\n",
    "print(b[2][0])"
   ]
  },
  {
   "cell_type": "code",
   "execution_count": 56,
   "metadata": {},
   "outputs": [
    {
     "name": "stdout",
     "output_type": "stream",
     "text": [
      "[1, 2, [3, 5], 'Mohammad']\n",
      "[1, 2, 4, 'Mohammad']\n"
     ]
    }
   ],
   "source": [
    "# Lists are similar to tuples but they are mutable\n",
    "c=[1,2,[3,5],'Mohammad']\n",
    "print(c)\n",
    "c[2]=4\n",
    "print(c)"
   ]
  },
  {
   "cell_type": "code",
   "execution_count": 65,
   "metadata": {},
   "outputs": [
    {
     "name": "stdout",
     "output_type": "stream",
     "text": [
      "(1, 2, 3, 4, 'Ali')\n",
      "[1, 3, 3, 4]\n"
     ]
    }
   ],
   "source": [
    "# add two tuples or lists\n",
    "print((1,2,3)+(4,'Ali'))\n",
    "print([1,3,3]+[4])"
   ]
  },
  {
   "cell_type": "markdown",
   "metadata": {},
   "source": [
    "Cloning to avoid aliasing"
   ]
  },
  {
   "cell_type": "code",
   "execution_count": 79,
   "metadata": {},
   "outputs": [
    {
     "name": "stdout",
     "output_type": "stream",
     "text": [
      "[1, 2, 'Ali']\n",
      "[1, 2, 'Ali']\n",
      "[1, 2, 'Mohammad']\n",
      "[1, 2, 'Mohammad']\n",
      "-------------------\n",
      "[1, 2, 'Mohammad']\n",
      "[1, 2, 'Mohammad']\n",
      "[1, 2, 'Hassan']\n",
      "[1, 2, 'Mohammad']\n"
     ]
    }
   ],
   "source": [
    "# Aliasing list: if we change the a value in the list, it will be changed in all other subsequent variables\n",
    "a=[1,2,'Ali']\n",
    "b=a\n",
    "print(a)\n",
    "print(b)\n",
    "a[2]='Mohammad'\n",
    "print(a)\n",
    "print(b)\n",
    "print('-------------------')\n",
    "# note, to avoid this, we can clone the list to a new variable\n",
    "c=a[:]\n",
    "print(a)\n",
    "print(c)\n",
    "a[2]='Hassan'\n",
    "print(a)\n",
    "print(c)"
   ]
  },
  {
   "cell_type": "markdown",
   "metadata": {},
   "source": [
    "## 2- DICTIONARIES"
   ]
  },
  {
   "cell_type": "code",
   "execution_count": 21,
   "metadata": {},
   "outputs": [
    {
     "name": "stdout",
     "output_type": "stream",
     "text": [
      "{'key1': 1, 'key2': '2', 'key3': (3, 4, 5), 'key4': [5, 6], 3: 15}\n",
      "(3, 4)\n",
      "15\n"
     ]
    }
   ],
   "source": [
    "# create a dictionary\n",
    "Dict1={\"key1\":1,\"key2\":\"2\",\"key3\":(3,4,5),(\"key4\"):[5,6],3:15}\n",
    "print(Dict1)\n",
    "print(Dict1[\"key3\"][0:2])\n",
    "print(Dict1[3])\n"
   ]
  },
  {
   "cell_type": "code",
   "execution_count": 20,
   "metadata": {},
   "outputs": [
    {
     "name": "stdout",
     "output_type": "stream",
     "text": [
      "{'key1': 1, 'key3': (3, 4, 5), 'key4': [5, 6], 3: 15}\n"
     ]
    }
   ],
   "source": [
    "# delete an element from the dictionary\n",
    "del(Dict1[\"key2\"])\n",
    "print(Dict1)"
   ]
  },
  {
   "cell_type": "code",
   "execution_count": 22,
   "metadata": {},
   "outputs": [
    {
     "data": {
      "text/plain": [
       "True"
      ]
     },
     "execution_count": 22,
     "metadata": {},
     "output_type": "execute_result"
    }
   ],
   "source": [
    "# verify if an element is in the dictionary\n",
    "'key3' in Dict1\n"
   ]
  },
  {
   "cell_type": "code",
   "execution_count": 23,
   "metadata": {},
   "outputs": [
    {
     "data": {
      "text/plain": [
       "dict_keys(['key1', 'key2', 'key3', 'key4', 3])"
      ]
     },
     "execution_count": 23,
     "metadata": {},
     "output_type": "execute_result"
    }
   ],
   "source": [
    "# obtain the keys of the dictionary\n",
    "Dict1.keys()"
   ]
  },
  {
   "cell_type": "code",
   "execution_count": 25,
   "metadata": {},
   "outputs": [
    {
     "data": {
      "text/plain": [
       "dict_values([1, '2', (3, 4, 5), [5, 6], 15])"
      ]
     },
     "execution_count": 25,
     "metadata": {},
     "output_type": "execute_result"
    }
   ],
   "source": [
    "# obtain the values of the elements in the dictionary\n",
    "Dict1.values()"
   ]
  },
  {
   "cell_type": "markdown",
   "metadata": {},
   "source": [
    "## 3- SETS"
   ]
  },
  {
   "cell_type": "code",
   "execution_count": 2,
   "metadata": {},
   "outputs": [
    {
     "name": "stdout",
     "output_type": "stream",
     "text": [
      "{'B', 'D', 'E', 'A', 'C'}\n"
     ]
    }
   ],
   "source": [
    "# Sets are types of collections\n",
    "# note: duplicate items in a set will present only once in the final product\n",
    "A={'A','B','C','B','B','D','E'}\n",
    "print(A)"
   ]
  },
  {
   "cell_type": "code",
   "execution_count": 3,
   "metadata": {},
   "outputs": [
    {
     "name": "stdout",
     "output_type": "stream",
     "text": [
      "{'B', 'T', 'D', 'E', 'A', 'C'}\n"
     ]
    }
   ],
   "source": [
    "# add element to a set\n",
    "A.add('T')\n",
    "print(A)"
   ]
  },
  {
   "cell_type": "code",
   "execution_count": 4,
   "metadata": {},
   "outputs": [
    {
     "name": "stdout",
     "output_type": "stream",
     "text": [
      "{'B', 'D', 'E', 'A', 'C'}\n"
     ]
    }
   ],
   "source": [
    "# remove an element from a set\n",
    "A.remove('T')\n",
    "print(A)"
   ]
  },
  {
   "cell_type": "code",
   "execution_count": 6,
   "metadata": {},
   "outputs": [
    {
     "name": "stdout",
     "output_type": "stream",
     "text": [
      "{'B', 'F', 'G', 'D'}\n"
     ]
    }
   ],
   "source": [
    "# Define a new set\n",
    "B={'B','D','F','G'}\n",
    "print(B)"
   ]
  },
  {
   "cell_type": "code",
   "execution_count": 13,
   "metadata": {},
   "outputs": [
    {
     "name": "stdout",
     "output_type": "stream",
     "text": [
      "{'B', 'D'}\n",
      "{'B', 'D'}\n"
     ]
    }
   ],
   "source": [
    "# find elements that exist in both sets A and B (intersect)\n",
    "print(A&B)\n",
    "print(A.intersection(B))# Alternative method"
   ]
  },
  {
   "cell_type": "code",
   "execution_count": 8,
   "metadata": {},
   "outputs": [
    {
     "data": {
      "text/plain": [
       "{'A', 'B', 'C', 'D', 'E', 'F', 'G'}"
      ]
     },
     "execution_count": 8,
     "metadata": {},
     "output_type": "execute_result"
    }
   ],
   "source": [
    "# find the union of both sets A and B\n",
    "A.union(B)"
   ]
  },
  {
   "cell_type": "code",
   "execution_count": 15,
   "metadata": {},
   "outputs": [
    {
     "name": "stdout",
     "output_type": "stream",
     "text": [
      "True\n",
      "False\n"
     ]
    }
   ],
   "source": [
    "# Create a new set\n",
    "C={'A','B'}\n",
    "# Check if C is a subset of A\n",
    "print(C.issubset(A))\n",
    "# Check if superset\n",
    "print(C.issuperset(A))"
   ]
  },
  {
   "cell_type": "code",
   "execution_count": 11,
   "metadata": {},
   "outputs": [
    {
     "data": {
      "text/plain": [
       "{'00:42:19',\n",
       " 10.0,\n",
       " 1982,\n",
       " '30-Nov-82',\n",
       " 46.0,\n",
       " 65,\n",
       " 'Michael Jackson',\n",
       " None,\n",
       " 'Pop, Rock, R&B',\n",
       " 'Thriller'}"
      ]
     },
     "execution_count": 11,
     "metadata": {},
     "output_type": "execute_result"
    }
   ],
   "source": [
    "# Convert list to set\n",
    "\n",
    "album_list = [ \"Michael Jackson\", \"Thriller\", 1982, \"00:42:19\", \\\n",
    "              \"Pop, Rock, R&B\", 46.0, 65, \"30-Nov-82\", None, 10.0]\n",
    "album_set = set(album_list)             \n",
    "album_set"
   ]
  },
  {
   "cell_type": "code",
   "execution_count": 12,
   "metadata": {},
   "outputs": [
    {
     "data": {
      "text/plain": [
       "{'A', 'C', 'E'}"
      ]
     },
     "execution_count": 12,
     "metadata": {},
     "output_type": "execute_result"
    }
   ],
   "source": [
    "# Find the difference in set A but not set B\n",
    "\n",
    "A.difference(B)  "
   ]
  }
 ],
 "metadata": {
  "kernelspec": {
   "display_name": "Python 3",
   "language": "python",
   "name": "python3"
  },
  "language_info": {
   "codemirror_mode": {
    "name": "ipython",
    "version": 3
   },
   "file_extension": ".py",
   "mimetype": "text/x-python",
   "name": "python",
   "nbconvert_exporter": "python",
   "pygments_lexer": "ipython3",
   "version": "3.7.3"
  }
 },
 "nbformat": 4,
 "nbformat_minor": 4
}
